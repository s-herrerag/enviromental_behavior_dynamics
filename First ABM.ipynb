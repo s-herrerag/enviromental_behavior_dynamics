{
 "cells": [
  {
   "cell_type": "markdown",
   "metadata": {},
   "source": [
    "## Agent based models"
   ]
  },
  {
   "cell_type": "code",
   "execution_count": 1,
   "metadata": {},
   "outputs": [],
   "source": [
    "import pandas as pd\n",
    "import numpy as np\n",
    "import mesa\n",
    "import random"
   ]
  },
  {
   "cell_type": "markdown",
   "metadata": {},
   "source": [
    "Create the agents"
   ]
  },
  {
   "cell_type": "code",
   "execution_count": 2,
   "metadata": {},
   "outputs": [],
   "source": [
    "class SimpleAgent(mesa.Agent):\n",
    "    \"\"\"An agent with fixed initial category.\"\"\"\n",
    "\n",
    "    def __init__(self, unique_id, model):\n",
    "        # Pass the parameters to the parent class.\n",
    "        super().__init__(unique_id, model)\n",
    "\n",
    "        # Assign the first action, which is equal to the group.\n",
    "        self.history = []\n",
    "        self.assigned_group = random.randint(0,1)\n",
    "        if self.assigned_group == 0:\n",
    "            self.assigned_group = \"Pro - environment\"\n",
    "            action = \"Pro - environment action\"\n",
    "            \n",
    "        else:\n",
    "            self.assigned_group = \"Anti - environment\"\n",
    "            action = \"Anti - environment action\"\n",
    "        \n",
    "        self.history.append(action)\n",
    "    \n",
    "    def step(self):\n",
    "        # Utility function and the step is appending the choice to the history\n",
    "        \n",
    "        def utility_function(self, tax=0.05):\n",
    "            # First, look at the history of everyone\n",
    "            histories_from_everyone = []\n",
    "            for a in self.model.schedule.agents:\n",
    "                histories_from_everyone.extend(a.history)\n",
    "            \n",
    "            # Now count the number of anti-environment actions, the nature discounts a fraction of this.\n",
    "            anti_actions_count = histories_from_everyone.count(\"Anti - environment action\")\n",
    "\n",
    "            # Now, the utilities and the choice depend on the assigned category and the number of anti-environmental actions\n",
    "            if self.assigned_group == \"Pro - environment\":\n",
    "                utility_from_pro_action = 1 - (1/10**5)*anti_actions_count\n",
    "                utility_from_anti_action = - (1/10**5)*anti_actions_count\n",
    "            \n",
    "            else:\n",
    "                utility_from_pro_action = - (1/10**5)*anti_actions_count\n",
    "                utility_from_anti_action = 1 - (1/10**5)*anti_actions_count - tax\n",
    "\n",
    "            if utility_from_pro_action >= utility_from_anti_action:\n",
    "                choice = \"Pro - environment action\"\n",
    "            else:\n",
    "                choice = \"Anti - environment action\"\n",
    "            \n",
    "            return choice\n",
    "\n",
    "        #Run the function and step forward\n",
    "        self.choice = utility_function(self)\n",
    "        self.history.append(self.choice)\n",
    "\n",
    "        # Just for starters, print choice\n",
    "        #print(f\"I'm agent {self.unique_id} and I chose {self.choice}. I'm in the category {self.assigned_group}. My history is {self.history}\")\n",
    "\n"
   ]
  },
  {
   "cell_type": "markdown",
   "metadata": {},
   "source": [
    "Add model"
   ]
  },
  {
   "cell_type": "code",
   "execution_count": 3,
   "metadata": {},
   "outputs": [],
   "source": [
    "class SimpleModel(mesa.Model):\n",
    "    \"\"\"A model with some number of agents.\"\"\"\n",
    "\n",
    "    def __init__(self, N):\n",
    "        super().__init__()\n",
    "        self.num_agents = N\n",
    "        # Create scheduler and assign it to the model\n",
    "        self.schedule = mesa.time.RandomActivation(self)\n",
    "\n",
    "        # Create agents\n",
    "        for i in range(self.num_agents):\n",
    "            a = SimpleAgent(i, self)\n",
    "            # Add the agent to the scheduler\n",
    "            self.schedule.add(a)\n",
    "\n",
    "    def step(self):\n",
    "        \"\"\"Advance the model by one step.\"\"\"\n",
    "        # The model's step will go here for now this will call the step method of each agent and print the agent's unique_id\n",
    "        self.schedule.step()"
   ]
  },
  {
   "cell_type": "markdown",
   "metadata": {},
   "source": [
    "Run and store dynamics"
   ]
  },
  {
   "cell_type": "code",
   "execution_count": 4,
   "metadata": {},
   "outputs": [
    {
     "name": "stdout",
     "output_type": "stream",
     "text": [
      "0\n",
      "1\n",
      "2\n",
      "3\n",
      "4\n",
      "5\n",
      "6\n",
      "7\n",
      "8\n",
      "9\n",
      "10\n",
      "11\n",
      "12\n",
      "13\n",
      "14\n",
      "15\n",
      "16\n",
      "17\n",
      "18\n",
      "19\n",
      "20\n",
      "21\n",
      "22\n",
      "23\n",
      "24\n",
      "25\n",
      "26\n",
      "27\n",
      "28\n",
      "29\n",
      "30\n",
      "31\n",
      "32\n",
      "33\n",
      "34\n",
      "35\n",
      "36\n",
      "37\n",
      "38\n",
      "39\n",
      "40\n",
      "41\n",
      "42\n",
      "43\n",
      "44\n",
      "45\n",
      "46\n",
      "47\n",
      "48\n",
      "49\n",
      "50\n",
      "51\n",
      "52\n",
      "53\n",
      "54\n",
      "55\n",
      "56\n"
     ]
    }
   ],
   "source": [
    "starter_model = SimpleModel(500)\n",
    "choices_history = []\n",
    "for i in range(1000):\n",
    "    starter_model.step()\n",
    "    choices = []\n",
    "    for a in starter_model.schedule.agents:\n",
    "        choices.append(a.choice)\n",
    "    choices_history.append(choices.count(\"Anti - environment action\")) \n",
    "    print(i)\n",
    "    "
   ]
  },
  {
   "cell_type": "code",
   "execution_count": null,
   "metadata": {},
   "outputs": [],
   "source": []
  }
 ],
 "metadata": {
  "kernelspec": {
   "display_name": "everyday",
   "language": "python",
   "name": "python3"
  },
  "language_info": {
   "codemirror_mode": {
    "name": "ipython",
    "version": 3
   },
   "file_extension": ".py",
   "mimetype": "text/x-python",
   "name": "python",
   "nbconvert_exporter": "python",
   "pygments_lexer": "ipython3",
   "version": "3.12.5"
  }
 },
 "nbformat": 4,
 "nbformat_minor": 2
}
